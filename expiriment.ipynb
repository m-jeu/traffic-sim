{
 "cells": [
  {
   "cell_type": "markdown",
   "source": [
    "<h1>Titel.</h1>\n",
    "\n",
    "We beginnen door een aantal libraries te importeren."
   ],
   "metadata": {
    "collapsed": false
   }
  },
  {
   "cell_type": "code",
   "execution_count": null,
   "metadata": {
    "collapsed": true
   },
   "outputs": [],
   "source": [
    "import numpy as np\n",
    "import pandas as pd\n",
    "import matplotlib.pyplot as plt\n",
    "%matplotlib inline\n",
    "\n",
    "from mesa.batchrunner import BatchRunner\n",
    "\n",
    "import trafficsim"
   ]
  },
  {
   "cell_type": "markdown",
   "source": [
    "In het model zit een willikeurig element, namelijk het willikeurig afremmen van verkeersdeelnemers. Om alsnog valide conclusies uit de simulatie te kunnen trekken voeren we deze meerdere keren uit, met behulp van de 'BatchRunner' die in Mesa ingebouwd zit. We beginnen met het 'standaard' 1-rijbaan model. We variëren de willikeurige kans om af te remmen, en de dichtheid van autos.\n",
    "\n",
    "\n",
    "We werken met een rijbaanlengte van 50 'cellen'."
   ],
   "metadata": {
    "collapsed": false
   }
  },
  {
   "cell_type": "code",
   "execution_count": null,
   "outputs": [],
   "source": [
    "LANE_LENGTH = 50\n",
    "MAX_VELOCITY = 5"
   ],
   "metadata": {
    "collapsed": false,
    "pycharm": {
     "name": "#%%\n"
    }
   }
  },
  {
   "cell_type": "code",
   "execution_count": null,
   "outputs": [],
   "source": [
    "variable_params = {\"agents_n\": np.arange(1, LANE_LENGTH, 2),\n",
    "                   \"p_brake\": np.linspace(0, 1, 10, endpoint=False)}"
   ],
   "metadata": {
    "collapsed": false,
    "pycharm": {
     "name": "#%%\n"
    }
   }
  },
  {
   "cell_type": "code",
   "execution_count": null,
   "outputs": [],
   "source": [
    "fixed_params = {\"lane_length\": LANE_LENGTH,\n",
    "                \"max_velocity\": MAX_VELOCITY}"
   ],
   "metadata": {
    "collapsed": false,
    "pycharm": {
     "name": "#%%\n"
    }
   }
  },
  {
   "cell_type": "code",
   "execution_count": null,
   "outputs": [],
   "source": [
    "batch_runner_1 = BatchRunner(\n",
    "    trafficsim.OneLaneRoad,\n",
    "    variable_parameters=variable_params,\n",
    "    fixed_parameters=fixed_params,\n",
    "    iterations=50,\n",
    "    max_steps=50,\n",
    "    model_reporters={\n",
    "        \"Data Collector\": lambda m: m.data_collector  # Grab the data collector from every run.\n",
    "    }\n",
    ")\n",
    "\n",
    "batch_runner_1.run_all()"
   ],
   "metadata": {
    "collapsed": false,
    "pycharm": {
     "name": "#%%\n"
    }
   }
  },
  {
   "cell_type": "code",
   "execution_count": null,
   "outputs": [],
   "source": [
    "df_1 = batch_runner_1.get_model_vars_dataframe()\n",
    "df_1"
   ],
   "metadata": {
    "collapsed": false,
    "pycharm": {
     "name": "#%%\n"
    }
   }
  },
  {
   "cell_type": "markdown",
   "source": [
    "Bij elke keer dat het expiriment is uitgevoerd is een <i>Data Collector</i> opgeslagen. De informatie over de gemiddelde snelheid op elke tijdstap in dat expiriment kan daar uit gehaald worden, en gebruikt worden om een gemiddelde snelheid voor die uitvoeringen te bepalen. Hiervoor nemen we alle tijdstappen vanaf t = 5 mee, zodat alle autos de mogelijkheid hebben gehad de maximale snelheid te bereiken mits er niets in hun weg is."
   ],
   "metadata": {
    "collapsed": false
   }
  },
  {
   "cell_type": "code",
   "execution_count": null,
   "outputs": [],
   "source": [
    "velocities = df_1[\"Data Collector\"].apply(lambda d: d.get_model_vars_dataframe())"
   ],
   "metadata": {
    "collapsed": false,
    "pycharm": {
     "name": "#%%\n"
    }
   }
  },
  {
   "cell_type": "code",
   "execution_count": null,
   "outputs": [],
   "source": [
    "df_1[\"Average velocity\"] = velocities.apply(lambda s: s[MAX_VELOCITY:].mean())"
   ],
   "metadata": {
    "collapsed": false,
    "pycharm": {
     "name": "#%%\n"
    }
   }
  },
  {
   "cell_type": "code",
   "execution_count": null,
   "outputs": [],
   "source": [
    "df_1.head(5)"
   ],
   "metadata": {
    "collapsed": false,
    "pycharm": {
     "name": "#%%\n"
    }
   }
  },
  {
   "cell_type": "markdown",
   "source": [
    "Om de onderzoeksvraag op een valide manier te kunnen beantwoorden, is het handig de hoeveelheid agents in de simulatie om te zetten naar een dichtheid."
   ],
   "metadata": {
    "collapsed": false
   }
  },
  {
   "cell_type": "code",
   "execution_count": null,
   "outputs": [],
   "source": [
    "df_1[\"Density\"] = df_1[\"agents_n\"] / LANE_LENGTH"
   ],
   "metadata": {
    "collapsed": false,
    "pycharm": {
     "name": "#%%\n"
    }
   }
  },
  {
   "cell_type": "markdown",
   "source": [
    "Vervolgens kunnen we voor elke permutatie van de variabele parameters (de hoeveelheid agents in de simulatie, en de kans om elke tijdstap willikeurig af te remmen) het gemidddeld van alle geobserveerde gemiddelde snelheden over alle herhalingen van dezelfde instellingen."
   ],
   "metadata": {
    "collapsed": false
   }
  },
  {
   "cell_type": "code",
   "execution_count": null,
   "outputs": [],
   "source": [
    "df_1_grouped = df_1.groupby([\"Density\", \"p_brake\"])[\"Average velocity\"].mean()\n",
    "df_1_grouped"
   ],
   "metadata": {
    "collapsed": false,
    "pycharm": {
     "name": "#%%\n"
    }
   }
  },
  {
   "cell_type": "markdown",
   "source": [
    "Vervolgens kunnen we de verschillende waardes voor elke instelling van p_brake de gemiddelde snelheid per dichtheid laten zien."
   ],
   "metadata": {
    "collapsed": false
   }
  },
  {
   "cell_type": "code",
   "execution_count": null,
   "outputs": [],
   "source": [
    "fig, ax = plt.subplots()\n",
    "\n",
    "for p in variable_params[\"p_brake\"]:\n",
    "    ax.plot(df_1_grouped[(slice(None), p)], \"x-\", label=p)\n",
    "\n",
    "ax.legend(\n",
    "    title=\"P(willikeurige rem)\",\n",
    "    bbox_to_anchor=(1.5, 1)\n",
    ")\n",
    "ax.set_title(\"Gemiddelde snelheid per dichtheid op 1-baansweg.\")\n",
    "ax.set_xlabel(\"Dichtheid (autos per cel)\")\n",
    "ax.set_ylabel(\"Gemiddelde snelheid (cellen per tijdseenheid)\")"
   ],
   "metadata": {
    "collapsed": false,
    "pycharm": {
     "name": "#%%\n"
    }
   }
  },
  {
   "cell_type": "markdown",
   "source": [],
   "metadata": {
    "collapsed": false
   }
  },
  {
   "cell_type": "markdown",
   "source": [
    "<h2>2-Baans</h2>\n",
    "\n",
    "Om een realistischer element aan de simulatie toe te voegen, en te kunnen kijken of dat van invloed is op de loop van filevorming kunnen we ook kijken naar wegen met 2 rijstroken. Om dit te onderzoeken kunnen we dezelfde stappen als eerder ondernemen. Omdat we op deze weg bij dezelfde lengte 2 keer zoveel cellen krijgen, passen we de hoeveelheden autos aan om te testen."
   ],
   "metadata": {
    "collapsed": false
   }
  },
  {
   "cell_type": "code",
   "execution_count": null,
   "outputs": [],
   "source": [
    "variable_params_2 = variable_params\n",
    "variable_params_2[\"agents_n\"] = np.arange(1, LANE_LENGTH * 2, 4)"
   ],
   "metadata": {
    "collapsed": false,
    "pycharm": {
     "name": "#%%\n"
    }
   }
  },
  {
   "cell_type": "markdown",
   "source": [
    "We voeren het expiriment wederom uit."
   ],
   "metadata": {
    "collapsed": false
   }
  },
  {
   "cell_type": "code",
   "execution_count": null,
   "outputs": [],
   "source": [
    "batch_runner_2 = BatchRunner(\n",
    "    trafficsim.TwoLaneRoad,\n",
    "    variable_parameters=variable_params_2,\n",
    "    fixed_parameters=fixed_params,\n",
    "    iterations=50,\n",
    "    max_steps=50,\n",
    "    model_reporters={\n",
    "        \"Data Collector\": lambda m: m.data_collector  # Grab the data collector from every run.\n",
    "    }\n",
    ")\n",
    "\n",
    "batch_runner_2.run_all()"
   ],
   "metadata": {
    "collapsed": false,
    "pycharm": {
     "name": "#%%\n"
    }
   }
  },
  {
   "cell_type": "markdown",
   "source": [
    "We halen hier de datacollectors uit, welke we vervolgens gebruiken om de gemiddelde snelheden per uitvoering van het expiriment te bepalen."
   ],
   "metadata": {
    "collapsed": false
   }
  },
  {
   "cell_type": "code",
   "execution_count": null,
   "outputs": [],
   "source": [
    "df_2 = batch_runner_2.get_model_vars_dataframe()\n",
    "velocities_2 = df_2[\"Data Collector\"].apply(lambda d: d.get_model_vars_dataframe())\n",
    "df_2[\"Average velocity\"] = velocities_2.apply(lambda s: s[MAX_VELOCITY:].mean())"
   ],
   "metadata": {
    "collapsed": false,
    "pycharm": {
     "name": "#%%\n"
    }
   }
  },
  {
   "cell_type": "markdown",
   "source": [
    "We rekenen de hoeveelheid agents om naar dichtheid."
   ],
   "metadata": {
    "collapsed": false
   }
  },
  {
   "cell_type": "code",
   "execution_count": null,
   "outputs": [],
   "source": [
    "df_2[\"Density\"] = df_2[\"agents_n\"] / (LANE_LENGTH * 2)"
   ],
   "metadata": {
    "collapsed": false,
    "pycharm": {
     "name": "#%%\n"
    }
   }
  },
  {
   "cell_type": "markdown",
   "source": [
    "En rekenen per permutatie van de instellingen de gemiddeldes uit, en beelden deze af in een grafiek."
   ],
   "metadata": {
    "collapsed": false
   }
  },
  {
   "cell_type": "code",
   "execution_count": null,
   "outputs": [],
   "source": [
    "df_2_grouped = df_2.groupby([\"Density\", \"p_brake\"]).agg({\"Average velocity\": \"mean\"})\n",
    "df_2_grouped"
   ],
   "metadata": {
    "collapsed": false,
    "pycharm": {
     "name": "#%%\n"
    }
   }
  },
  {
   "cell_type": "code",
   "execution_count": null,
   "outputs": [],
   "source": [
    "fig, ax = plt.subplots()\n",
    "\n",
    "for p in variable_params[\"p_brake\"]:\n",
    "    ax.plot(df_2_grouped[(slice(None), p)], \"x-\", label=p)\n",
    "\n",
    "ax.legend(\n",
    "    title=\"P(willikeurige rem)\",\n",
    "    bbox_to_anchor=(1.5, 1)\n",
    ")\n",
    "ax.set_title(\"Gemiddelde snelheid per dichtheid op 2-baansweg.\")\n",
    "ax.set_xlabel(\"Dichtheid (autos per cel)\")\n",
    "ax.set_ylabel(\"Gemiddelde snelheid (cellen per tijdseenheid)\")"
   ],
   "metadata": {
    "collapsed": false,
    "pycharm": {
     "name": "#%%\n"
    }
   }
  },
  {
   "cell_type": "code",
   "execution_count": null,
   "outputs": [],
   "source": [],
   "metadata": {
    "collapsed": false,
    "pycharm": {
     "name": "#%%\n"
    }
   }
  }
 ],
 "metadata": {
  "kernelspec": {
   "display_name": "Python 3",
   "language": "python",
   "name": "python3"
  },
  "language_info": {
   "codemirror_mode": {
    "name": "ipython",
    "version": 2
   },
   "file_extension": ".py",
   "mimetype": "text/x-python",
   "name": "python",
   "nbconvert_exporter": "python",
   "pygments_lexer": "ipython2",
   "version": "2.7.6"
  }
 },
 "nbformat": 4,
 "nbformat_minor": 0
}