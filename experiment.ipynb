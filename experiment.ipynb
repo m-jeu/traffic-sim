{
 "cells": [
  {
   "cell_type": "markdown",
   "source": [
    "<h1>Verkeerssimulatie: Het experiment.</h1>\n",
    "\n",
    "De implementatie van zowel het Nagel-Schreckenbergmodel, als het model geïntroduceerd in Tian et al. (1996) zijn geïmplementeerd in de \"trafficsim/lib/sim\" Python package. Het daadwerkelijk uitvoeren van de simulatie, welke parameters daarvoor gebruikt worden, en hoe de resulterende data verwerkt wordt word in deze Jupyter Notebook gedaan, zodat dat dit extra inzichtelijk is. Hierbij word echter alleen gefocussed op de daadwerkelijke stappen die genomen worden om de data te verkrijgen en verwerken. De design-filosofie en uitgebreidere intrepetatie van de resultaten worden in het hoofddocument gedaan.\n",
    "\n",
    "Dit document begint met de implementatie van het Nagel-Schreckenbergmodel in de meest klassieke vorm (1-baansweg) en de resultaten daarvan. Daarna word het 2-banen model hetzelfde benaderd. Onze hypothese is gevormd om een bepaald kantelpunt, waarvan we de locatie zullen bekijken als derde onderdeel.\n",
    "\n",
    "<h3>1-baans</h3>\n",
    "\n",
    "We beginnen door een aantal libraries te importeren."
   ],
   "metadata": {
    "collapsed": false
   }
  },
  {
   "cell_type": "code",
   "execution_count": null,
   "metadata": {
    "collapsed": true
   },
   "outputs": [],
   "source": [
    "import numpy as np\n",
    "import pandas as pd\n",
    "import matplotlib.pyplot as plt\n",
    "%matplotlib inline\n",
    "\n",
    "from mesa.batchrunner import BatchRunner\n",
    "\n",
    "import trafficsim"
   ]
  },
  {
   "cell_type": "markdown",
   "source": [
    "In het model zit een willikeurig element, namelijk het willikeurig afremmen van verkeersdeelnemers. Om alsnog valide conclusies uit de simulatie te kunnen trekken voeren we deze meerdere keren uit, met behulp van de 'BatchRunner' die in Mesa ingebouwd zit. We beginnen met het 'standaard' 1-rijbaan model. We variëren de willikeurige kans om af te remmen, en de dichtheid van autos.\n",
    "\n",
    "\n",
    "We werken met een rijbaanlengte van 50 'cellen'."
   ],
   "metadata": {
    "collapsed": false
   }
  },
  {
   "cell_type": "code",
   "execution_count": null,
   "outputs": [],
   "source": [
    "LANE_LENGTH = 50\n",
    "MAX_VELOCITY = 5"
   ],
   "metadata": {
    "collapsed": false,
    "pycharm": {
     "name": "#%%\n"
    }
   }
  },
  {
   "cell_type": "code",
   "execution_count": null,
   "outputs": [],
   "source": [
    "variable_params = {\"agents_n\": np.arange(1, LANE_LENGTH, 2),\n",
    "                   \"p_brake\": np.linspace(0, 1, 10, endpoint=False)}"
   ],
   "metadata": {
    "collapsed": false,
    "pycharm": {
     "name": "#%%\n"
    }
   }
  },
  {
   "cell_type": "code",
   "execution_count": null,
   "outputs": [],
   "source": [
    "fixed_params = {\"lane_length\": LANE_LENGTH,\n",
    "                \"max_velocity\": MAX_VELOCITY}"
   ],
   "metadata": {
    "collapsed": false,
    "pycharm": {
     "name": "#%%\n"
    }
   }
  },
  {
   "cell_type": "code",
   "execution_count": null,
   "outputs": [],
   "source": [
    "batch_runner_1 = BatchRunner(\n",
    "    trafficsim.OneLaneRoad,\n",
    "    variable_parameters=variable_params,\n",
    "    fixed_parameters=fixed_params,\n",
    "    iterations=50,\n",
    "    max_steps=50,\n",
    "    model_reporters={\n",
    "        \"Data Collector\": lambda m: m.data_collector  # Grab the data collector from every run.\n",
    "    }\n",
    ")\n",
    "\n",
    "batch_runner_1.run_all()"
   ],
   "metadata": {
    "collapsed": false,
    "pycharm": {
     "name": "#%%\n"
    }
   }
  },
  {
   "cell_type": "code",
   "execution_count": null,
   "outputs": [],
   "source": [
    "df_1 = batch_runner_1.get_model_vars_dataframe()\n",
    "df_1"
   ],
   "metadata": {
    "collapsed": false,
    "pycharm": {
     "name": "#%%\n"
    }
   }
  },
  {
   "cell_type": "markdown",
   "source": [
    "Bij elke keer dat het expiriment is uitgevoerd is een <i>Data Collector</i> opgeslagen. De informatie over de gemiddelde snelheid op elke tijdstap in dat expiriment kan daar uit gehaald worden, en gebruikt worden om een gemiddelde snelheid voor die uitvoeringen te bepalen. Hiervoor nemen we alle tijdstappen vanaf t = 5 mee, zodat alle autos de mogelijkheid hebben gehad de maximale snelheid te bereiken mits er niets in hun weg is."
   ],
   "metadata": {
    "collapsed": false
   }
  },
  {
   "cell_type": "code",
   "execution_count": null,
   "outputs": [],
   "source": [
    "velocities = df_1[\"Data Collector\"].apply(lambda d: d.get_model_vars_dataframe())"
   ],
   "metadata": {
    "collapsed": false,
    "pycharm": {
     "name": "#%%\n"
    }
   }
  },
  {
   "cell_type": "code",
   "execution_count": null,
   "outputs": [],
   "source": [
    "df_1[\"Average velocity\"] = velocities.apply(lambda s: s[MAX_VELOCITY:].mean())"
   ],
   "metadata": {
    "collapsed": false,
    "pycharm": {
     "name": "#%%\n"
    }
   }
  },
  {
   "cell_type": "code",
   "execution_count": null,
   "outputs": [],
   "source": [
    "df_1.head(5)"
   ],
   "metadata": {
    "collapsed": false,
    "pycharm": {
     "name": "#%%\n"
    }
   }
  },
  {
   "cell_type": "markdown",
   "source": [
    "Om de onderzoeksvraag op een valide manier te kunnen beantwoorden, is het handig de hoeveelheid agents in de simulatie om te zetten naar een dichtheid."
   ],
   "metadata": {
    "collapsed": false
   }
  },
  {
   "cell_type": "code",
   "execution_count": null,
   "outputs": [],
   "source": [
    "df_1[\"Density\"] = df_1[\"agents_n\"] / LANE_LENGTH"
   ],
   "metadata": {
    "collapsed": false,
    "pycharm": {
     "name": "#%%\n"
    }
   }
  },
  {
   "cell_type": "markdown",
   "source": [
    "Vervolgens kunnen we voor elke permutatie van de variabele parameters (de hoeveelheid agents in de simulatie, en de kans om elke tijdstap willikeurig af te remmen) het gemidddeld van alle geobserveerde gemiddelde snelheden over alle herhalingen van dezelfde instellingen."
   ],
   "metadata": {
    "collapsed": false
   }
  },
  {
   "cell_type": "code",
   "execution_count": null,
   "outputs": [],
   "source": [
    "df_1_grouped = df_1.groupby([\"Density\", \"p_brake\"]).mean()[\"Average velocity\"]\n",
    "df_1_grouped"
   ],
   "metadata": {
    "collapsed": false,
    "pycharm": {
     "name": "#%%\n"
    }
   }
  },
  {
   "cell_type": "markdown",
   "source": [
    "Vervolgens kunnen we de verschillende waardes voor elke instelling van p_brake de gemiddelde snelheid per dichtheid laten zien."
   ],
   "metadata": {
    "collapsed": false
   }
  },
  {
   "cell_type": "code",
   "execution_count": null,
   "outputs": [],
   "source": [
    "fig, ax = plt.subplots()\n",
    "\n",
    "for p in variable_params[\"p_brake\"]:\n",
    "    ax.plot(df_1_grouped[(slice(None), p)], \"x-\", label=p)\n",
    "\n",
    "ax.legend(\n",
    "    title=\"P(willikeurige rem)\",\n",
    "    bbox_to_anchor=(1.5, 1)\n",
    ")\n",
    "ax.set_title(\"Gemiddelde snelheid per dichtheid op 1-baansweg.\")\n",
    "ax.set_xlabel(\"Dichtheid (autos per cel)\")\n",
    "ax.set_ylabel(\"Gemiddelde snelheid (cellen per tijdseenheid)\")"
   ],
   "metadata": {
    "collapsed": false,
    "pycharm": {
     "name": "#%%\n"
    }
   }
  },
  {
   "cell_type": "markdown",
   "source": [
    "Onze hypothese lijkt inderdaad kloppend in het feit dat er een kantelpunt is, waarna de dichtheid van het verkeerd een negatief effect heeft op de doorstroom."
   ],
   "metadata": {
    "collapsed": false
   }
  },
  {
   "cell_type": "markdown",
   "source": [
    "<h3>2-Baans</h3>\n",
    "\n",
    "Om een realistischer element aan de simulatie toe te voegen, en te kunnen kijken of dat van invloed is op de loop van filevorming kunnen we ook kijken naar wegen met 2 rijstroken. Om dit te onderzoeken kunnen we dezelfde stappen als eerder ondernemen. Omdat we op deze weg bij dezelfde lengte 2 keer zoveel cellen krijgen, passen we de hoeveelheden autos aan om te testen."
   ],
   "metadata": {
    "collapsed": false
   }
  },
  {
   "cell_type": "code",
   "execution_count": null,
   "outputs": [],
   "source": [
    "variable_params_2 = variable_params\n",
    "variable_params_2[\"agents_n\"] = np.arange(1, LANE_LENGTH * 2, 4)"
   ],
   "metadata": {
    "collapsed": false,
    "pycharm": {
     "name": "#%%\n"
    }
   }
  },
  {
   "cell_type": "markdown",
   "source": [
    "We voeren het expiriment wederom uit."
   ],
   "metadata": {
    "collapsed": false
   }
  },
  {
   "cell_type": "code",
   "execution_count": null,
   "outputs": [],
   "source": [
    "batch_runner_2 = BatchRunner(\n",
    "    trafficsim.TwoLaneRoad,\n",
    "    variable_parameters=variable_params_2,\n",
    "    fixed_parameters=fixed_params,\n",
    "    iterations=50,\n",
    "    max_steps=50,\n",
    "    model_reporters={\n",
    "        \"Data Collector\": lambda m: m.data_collector  # Grab the data collector from every run.\n",
    "    }\n",
    ")\n",
    "\n",
    "batch_runner_2.run_all()"
   ],
   "metadata": {
    "collapsed": false,
    "pycharm": {
     "name": "#%%\n"
    }
   }
  },
  {
   "cell_type": "markdown",
   "source": [
    "We halen hier de datacollectors uit, welke we vervolgens gebruiken om de gemiddelde snelheden per uitvoering van het expiriment te bepalen."
   ],
   "metadata": {
    "collapsed": false
   }
  },
  {
   "cell_type": "code",
   "execution_count": null,
   "outputs": [],
   "source": [
    "df_2 = batch_runner_2.get_model_vars_dataframe()\n",
    "velocities_2 = df_2[\"Data Collector\"].apply(lambda d: d.get_model_vars_dataframe())\n",
    "df_2[\"Average velocity\"] = velocities_2.apply(lambda s: s[MAX_VELOCITY:].mean())"
   ],
   "metadata": {
    "collapsed": false,
    "pycharm": {
     "name": "#%%\n"
    }
   }
  },
  {
   "cell_type": "markdown",
   "source": [
    "We rekenen de hoeveelheid agents om naar dichtheid."
   ],
   "metadata": {
    "collapsed": false
   }
  },
  {
   "cell_type": "code",
   "execution_count": null,
   "outputs": [],
   "source": [
    "df_2[\"Density\"] = df_2[\"agents_n\"] / (LANE_LENGTH * 2)"
   ],
   "metadata": {
    "collapsed": false,
    "pycharm": {
     "name": "#%%\n"
    }
   }
  },
  {
   "cell_type": "markdown",
   "source": [
    "En rekenen per permutatie van de instellingen de gemiddeldes uit, en beelden deze af in een grafiek."
   ],
   "metadata": {
    "collapsed": false
   }
  },
  {
   "cell_type": "code",
   "execution_count": null,
   "outputs": [],
   "source": [
    "df_2_grouped = df_2.groupby([\"Density\", \"p_brake\"]).mean()[\"Average velocity\"]\n",
    "df_2_grouped"
   ],
   "metadata": {
    "collapsed": false,
    "pycharm": {
     "name": "#%%\n"
    }
   }
  },
  {
   "cell_type": "code",
   "execution_count": null,
   "outputs": [],
   "source": [
    "fig, ax = plt.subplots()\n",
    "\n",
    "for p in variable_params_2[\"p_brake\"]:\n",
    "    ax.plot(df_2_grouped[(slice(None), p)], \"x-\", label=p)\n",
    "\n",
    "ax.legend(\n",
    "    title=\"P(willikeurige rem)\",\n",
    "    bbox_to_anchor=(1.5, 1)\n",
    ")\n",
    "ax.set_title(\"Gemiddelde snelheid per dichtheid op 2-baansweg.\")\n",
    "ax.set_xlabel(\"Dichtheid (autos per cel)\")\n",
    "ax.set_ylabel(\"Gemiddelde snelheid (cellen per tijdseenheid)\")"
   ],
   "metadata": {
    "collapsed": false,
    "pycharm": {
     "name": "#%%\n"
    }
   }
  },
  {
   "cell_type": "markdown",
   "source": [
    "In dit geval lijkt de hypothese stand te houden. Zelfs lijkt de dichtheid waarop het kantelpunt van dichtheid waarna dit doorstroom negatief begint te beïnvloeden op hetzelfde punt te liggen. De doorstroomg valt echter minder snel na dit punt, dan bij het scenario met 1 baan. TODO(m-jeu): IS dit waar?\n",
    "\n",
    "<h3>Kantelpunt</h3>\n",
    "\n",
    "Het is duidelijk dat er een kantelpunt is waarna de dichtheid op een weg de doorstroom begint in te vloeden in het Nagel-Schreckenbergmodel. TODO CITAAT stelt dat dit ontstaat als functie van de maximale snelheid:\n",
    "\n",
    "$$ρ(Vmax) = \\frac{1}{1 + Vmax}$$\n",
    "\n",
    "Om dit te doen kunnen we de simulatie een aantal keer uitvoeren, met 10 verschillende maximale snelheden. De kans om willikeurig af te remmen is in dit geval op 0 vastgezet, omdat de gestelde formule alleen relevant is voor de situatie waar willikeurig afremmen niet gebeurt. Zonder willikeurig element kunnen we veilig elke individuele instellingspermutatie één keer uitvoeren.\n",
    "\n",
    "We werken met een langere weg, zodat de discrete stappen in dichtheid kleiner kunnen zijn."
   ],
   "metadata": {
    "collapsed": false,
    "pycharm": {
     "name": "#%% md\n"
    }
   }
  },
  {
   "cell_type": "code",
   "execution_count": null,
   "outputs": [],
   "source": [
    "LONG_LANE_LENGTH = 250"
   ],
   "metadata": {
    "collapsed": false,
    "pycharm": {
     "name": "#%%\n"
    }
   }
  },
  {
   "cell_type": "code",
   "execution_count": null,
   "outputs": [],
   "source": [
    "variable_params_3 = {\n",
    "    \"max_velocity\": np.arange(1, 11),\n",
    "    \"agents_n\": np.arange(1, LONG_LANE_LENGTH)\n",
    "}"
   ],
   "metadata": {
    "collapsed": false,
    "pycharm": {
     "name": "#%%\n"
    }
   }
  },
  {
   "cell_type": "code",
   "execution_count": null,
   "outputs": [],
   "source": [
    "fixed_params_3 = {\"lane_length\": LONG_LANE_LENGTH,\n",
    "                  \"p_brake\": 0}"
   ],
   "metadata": {
    "collapsed": false,
    "pycharm": {
     "name": "#%%\n"
    }
   }
  },
  {
   "cell_type": "code",
   "execution_count": null,
   "outputs": [],
   "source": [
    "batch_runner_3 = BatchRunner(\n",
    "    trafficsim.OneLaneRoad,\n",
    "    variable_parameters=variable_params_3,\n",
    "    fixed_parameters=fixed_params_3,\n",
    "    max_steps=100,\n",
    "    model_reporters={\n",
    "        \"Data Collector\": lambda m: m.data_collector  # Grab the data collector from every run.\n",
    "    }\n",
    ")\n",
    "\n",
    "batch_runner_3.run_all()"
   ],
   "metadata": {
    "collapsed": false,
    "pycharm": {
     "name": "#%%\n"
    }
   }
  },
  {
   "cell_type": "markdown",
   "source": [
    "Wederom nemen we van elke uitvoering van het model de gemiddelde snelheid op een bepaald punt."
   ],
   "metadata": {
    "collapsed": false
   }
  },
  {
   "cell_type": "code",
   "execution_count": null,
   "outputs": [],
   "source": [
    "df_3 = batch_runner_3.get_model_vars_dataframe()\n",
    "df_3[\"Velocities\"] = df_3[\"Data Collector\"].apply(lambda d: d.get_model_vars_dataframe())"
   ],
   "metadata": {
    "collapsed": false,
    "pycharm": {
     "name": "#%%\n"
    }
   }
  },
  {
   "cell_type": "markdown",
   "source": [
    "Om het gemiddelde vanaf het punt dat alle autos tijd hebben gehad (wanneer zij niet geblokkeerd worden) uit te kunnen rekenen, moeten we dit keer rekening houden wat de maximum snelheid op in die uitvoering van het model was.\n",
    "\n",
    "We nemen het gemiddelde van alle snelheden bijbehorend bij een bepaalde uitvoering van het model, vanaf de <i>maximum snelheid</i>-ste tijdstap."
   ],
   "metadata": {
    "collapsed": false
   }
  },
  {
   "cell_type": "code",
   "execution_count": null,
   "outputs": [],
   "source": [
    "df_3[\"Average velocity\"] = df_3[[\"Velocities\", \"max_velocity\"]].apply(\n",
    "    lambda row: (row[\"Velocities\"][row[\"max_velocity\"]:]).mean(),\n",
    "    axis=1  # Voer lambda uit op elke rij.\n",
    ")"
   ],
   "metadata": {
    "collapsed": false,
    "pycharm": {
     "name": "#%%\n"
    }
   }
  },
  {
   "cell_type": "markdown",
   "source": [
    "We voeren elke permutatie van mogelijke instellingen maar één keer uit. We hoeven dus geen <i>groupby</i> operatie te doen.\n",
    "\n",
    "We willen wel nog de hoeveelheid agents omrekenen naar een dichtheid."
   ],
   "metadata": {
    "collapsed": false
   }
  },
  {
   "cell_type": "code",
   "execution_count": null,
   "outputs": [],
   "source": [
    "df_3[\"Density\"] = df_3[\"agents_n\"] / LONG_LANE_LENGTH"
   ],
   "metadata": {
    "collapsed": false,
    "pycharm": {
     "name": "#%%\n"
    }
   }
  },
  {
   "cell_type": "markdown",
   "source": [
    "Wanneer het kantelpunt van dichtheid nog niet bereikt is, verwacht men dat de gemiddelde snelheid gelijk is aan (of dichtbij is, vanwege floating-point math) de maximale snelheid. We kunnen het kantelpunt dan ook opzoeken door te zoeken naar het punt waar dit voor het eerst niet bijna gelijk aan elkaar is, en het laatste punt waar dit wel zo is."
   ],
   "metadata": {
    "collapsed": false
   }
  },
  {
   "cell_type": "code",
   "execution_count": null,
   "outputs": [],
   "source": [
    "delta = .0001\n",
    "\n",
    "# Boolean mask that represents whether average and max velocity are within delta of each other.\n",
    "not_equal_mask = np.abs(df_3[\"Average velocity\"] - df_3[\"max_velocity\"]) > delta"
   ],
   "metadata": {
    "collapsed": false,
    "pycharm": {
     "name": "#%%\n"
    }
   }
  },
  {
   "cell_type": "code",
   "execution_count": null,
   "outputs": [],
   "source": [
    "# Lowest density at which max_velocity and average velocity are not within delta of eachother for every max velocity.\n",
    "upper_bound = df_3[not_equal_mask].groupby(\"max_velocity\").agg({\n",
    "    \"Density\": np.min\n",
    "})\n",
    "\n",
    "upper_bound"
   ],
   "metadata": {
    "collapsed": false,
    "pycharm": {
     "name": "#%%\n"
    }
   }
  },
  {
   "cell_type": "code",
   "execution_count": null,
   "outputs": [],
   "source": [
    "# Highest density at which max_velocity and average velocity are within delta of eachother for every max velocity.\n",
    "lower_bound = df_3[~not_equal_mask].groupby(\"max_velocity\").agg({\n",
    "    \"Density\": np.max\n",
    "})\n",
    "\n",
    "lower_bound"
   ],
   "metadata": {
    "collapsed": false,
    "pycharm": {
     "name": "#%%\n"
    }
   }
  },
  {
   "cell_type": "markdown",
   "source": [
    "Omdat we met discrete waarnemingen werken, zou het punt waarop de dichtheid de gemiddelde snelheid begint te beïnvloeden tussen de 2 berekende punten moeten liggen bij elke maximale waarde.\n",
    "\n",
    "We kunnen deze geobserveerde, samen met de formule plotten in een grafiek om deze te vergelijken."
   ],
   "metadata": {
    "collapsed": false
   }
  },
  {
   "cell_type": "code",
   "execution_count": null,
   "outputs": [],
   "source": [
    "fig, ax = plt.subplots()\n",
    "ax.plot(lower_bound.index, 1 / (1 + lower_bound.index), label=\"1 / (Vmax + 1)\")\n",
    "ax.scatter(lower_bound.index, lower_bound, c=\"r\", s=10, label=\"Onderkant geobserveerd interval kantelpunt\")\n",
    "ax.scatter(upper_bound.index, upper_bound, c=\"g\", s=10, label=\"Bovenkant geobserveerd interval kantelpunt\")\n",
    "ax.legend()\n",
    "ax.set_title(\"Kantelpunt invloed dichtheid op gemiddelde snelheid per maximale snelheid\")\n",
    "ax.set_xlabel(\"Vmax in cellen per tijdsstap\")\n",
    "ax.set_ylabel(\"Dichtheid bij kantelpunt\")"
   ],
   "metadata": {
    "collapsed": false,
    "pycharm": {
     "name": "#%%\n"
    }
   }
  }
 ],
 "metadata": {
  "kernelspec": {
   "display_name": "Python 3",
   "language": "python",
   "name": "python3"
  },
  "language_info": {
   "codemirror_mode": {
    "name": "ipython",
    "version": 2
   },
   "file_extension": ".py",
   "mimetype": "text/x-python",
   "name": "python",
   "nbconvert_exporter": "python",
   "pygments_lexer": "ipython2",
   "version": "2.7.6"
  }
 },
 "nbformat": 4,
 "nbformat_minor": 0
}